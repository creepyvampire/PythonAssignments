{
  "nbformat": 4,
  "nbformat_minor": 0,
  "metadata": {
    "colab": {
      "provenance": []
    },
    "kernelspec": {
      "name": "python3",
      "display_name": "Python 3"
    },
    "language_info": {
      "name": "python"
    }
  },
  "cells": [
    {
      "cell_type": "markdown",
      "source": [
        "w+ mode:"
      ],
      "metadata": {
        "id": "tYDU0Q0LQUzu"
      }
    },
    {
      "cell_type": "code",
      "source": [
        "filename = \"file.txt\"\n",
        "\n",
        "with open(filename, \"w+\") as file:\n",
        "    file.write(\"Writing this line to file\")\n",
        "    file.seek(0)\n",
        "    contents = file.read()\n",
        "    print(\"After modification:\")\n",
        "    print(contents)\n"
      ],
      "metadata": {
        "colab": {
          "base_uri": "https://localhost:8080/"
        },
        "id": "lHRHJMLSQT8_",
        "outputId": "df1e8105-38f0-43c2-ed68-b8cbf5344532"
      },
      "execution_count": 5,
      "outputs": [
        {
          "output_type": "stream",
          "name": "stdout",
          "text": [
            "After modification:\n",
            "Writing this line to file\n"
          ]
        }
      ]
    },
    {
      "cell_type": "markdown",
      "source": [
        "r+ mode:"
      ],
      "metadata": {
        "id": "f9GFhRY3PgBn"
      }
    },
    {
      "cell_type": "code",
      "execution_count": 6,
      "metadata": {
        "id": "syGcesBmAriW",
        "colab": {
          "base_uri": "https://localhost:8080/"
        },
        "outputId": "19309c91-7032-483d-b3ad-5f22d6add627"
      },
      "outputs": [
        {
          "output_type": "stream",
          "name": "stdout",
          "text": [
            "Writing this line to file\n",
            "\n",
            "After modification:\n",
            "Writing this line to file\n",
            "Adding this line to file\n"
          ]
        }
      ],
      "source": [
        "filename = \"file.txt\"\n",
        "\n",
        "with open(filename, \"r+\") as file:\n",
        "    contents = file.read()\n",
        "    print(contents)\n",
        "    file.write(\"\\nAdding this line to file\")\n",
        "\n",
        "with open(filename, \"r\") as file:\n",
        "    contents = file.read()\n",
        "    print(\"\\nAfter modification:\")\n",
        "    print(contents)"
      ]
    },
    {
      "cell_type": "markdown",
      "source": [
        "a+ mode:"
      ],
      "metadata": {
        "id": "P_eeBoSPQtmy"
      }
    },
    {
      "cell_type": "code",
      "source": [
        "filename = \"file.txt\"\n",
        "\n",
        "with open(filename, \"a+\") as file:\n",
        "    file.seek(0)\n",
        "    contents = file.read()\n",
        "    print(\"Before modification:\")\n",
        "    print(contents)\n",
        "    file.write(\"\\nAdding second line to file\")\n",
        "    file.seek(0)\n",
        "    contents = file.read()\n",
        "    print(\"\\nAfter modification:\")\n",
        "    print(contents)\n"
      ],
      "metadata": {
        "colab": {
          "base_uri": "https://localhost:8080/"
        },
        "id": "dNVwGS_fQvhC",
        "outputId": "80e995ed-1e9c-47ea-9f79-1d76a6c5c9d9"
      },
      "execution_count": 7,
      "outputs": [
        {
          "output_type": "stream",
          "name": "stdout",
          "text": [
            "Before modification:\n",
            "Writing this line to file\n",
            "Adding this line to file\n",
            "\n",
            "After modification:\n",
            "Writing this line to file\n",
            "Adding this line to file\n",
            "Adding second line to file\n"
          ]
        }
      ]
    }
  ]
}