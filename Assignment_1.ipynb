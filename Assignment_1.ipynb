{
  "nbformat": 4,
  "nbformat_minor": 0,
  "metadata": {
    "colab": {
      "provenance": []
    },
    "kernelspec": {
      "name": "python3",
      "display_name": "Python 3"
    },
    "language_info": {
      "name": "python"
    }
  },
  "cells": [
    {
      "cell_type": "markdown",
      "source": [
        "LISTS: "
      ],
      "metadata": {
        "id": "ny8_3qIDqGda"
      }
    },
    {
      "cell_type": "code",
      "execution_count": null,
      "metadata": {
        "id": "PSLVLYsXlMCt",
        "colab": {
          "base_uri": "https://localhost:8080/"
        },
        "outputId": "b21626a3-52ce-4ba3-c782-1b0af0a1df7c"
      },
      "outputs": [
        {
          "output_type": "stream",
          "name": "stdout",
          "text": [
            "Enter no. of students: 5\n",
            "Enter name: aplha\n",
            "Enter name: beta\n",
            "Enter name: gamma\n",
            "Enter name: delta\n",
            "Enter name: echo\n",
            "List of students is:  ['aplha', 'beta', 'gamma', 'delta', 'echo']\n"
          ]
        }
      ],
      "source": [
        "#program to store and print elements of a list\n",
        "student=[]\n",
        "n=int(input(\"Enter no. of students: \"))\n",
        "for i in range(0,n):\n",
        "  buf=input(\"Enter name: \")\n",
        "  student.append(buf)\n",
        "print(\"List of students is: \",student)"
      ]
    },
    {
      "cell_type": "code",
      "source": [
        "#Add elements of a list\n",
        "l1=[13,12,16,7,8,1,9]\n",
        "add=0\n",
        "for i in l1:\n",
        "  add+=i\n",
        "print(\"Sum of elements is \",add)"
      ],
      "metadata": {
        "colab": {
          "base_uri": "https://localhost:8080/"
        },
        "id": "CxOnh-UfpjQG",
        "outputId": "fd8688ca-b611-40d4-d54f-c75bfedf432f"
      },
      "execution_count": null,
      "outputs": [
        {
          "output_type": "stream",
          "name": "stdout",
          "text": [
            "Sum of elements is  66\n"
          ]
        }
      ]
    },
    {
      "cell_type": "markdown",
      "source": [
        "TUPLES:"
      ],
      "metadata": {
        "id": "wtmfiUZCqM_b"
      }
    },
    {
      "cell_type": "code",
      "source": [
        "thistuple = (\"apple\", \"banana\", \"cherry\")\n",
        "print(thistuple)"
      ],
      "metadata": {
        "colab": {
          "base_uri": "https://localhost:8080/"
        },
        "id": "tgXdcRWtqQ2c",
        "outputId": "d86134d3-311b-41eb-f072-d63decb736f3"
      },
      "execution_count": null,
      "outputs": [
        {
          "output_type": "stream",
          "name": "stdout",
          "text": [
            "('apple', 'banana', 'cherry')\n"
          ]
        }
      ]
    },
    {
      "cell_type": "code",
      "source": [
        "thistuple = (\"apple\", \"banana\", \"cherry\", \"orange\", \"kiwi\", \"melon\", \"mango\")\n",
        "print(thistuple[2:5])"
      ],
      "metadata": {
        "colab": {
          "base_uri": "https://localhost:8080/"
        },
        "id": "8P9E86BVxL7O",
        "outputId": "74888289-b1c6-4abc-f09c-1c2a90c6ccf8"
      },
      "execution_count": null,
      "outputs": [
        {
          "output_type": "stream",
          "name": "stdout",
          "text": [
            "('cherry', 'orange', 'kiwi')\n"
          ]
        }
      ]
    },
    {
      "cell_type": "markdown",
      "source": [
        "SETS:"
      ],
      "metadata": {
        "id": "ARpa26ZDxPZn"
      }
    },
    {
      "cell_type": "code",
      "source": [
        "thisset = {\"apple\", \"banana\", \"cherry\", \"apple\"}\n",
        "print(thisset)"
      ],
      "metadata": {
        "colab": {
          "base_uri": "https://localhost:8080/"
        },
        "id": "Ls-D2SzuxRWI",
        "outputId": "7ce2a5f5-a0ce-4360-927d-d840d648f3fc"
      },
      "execution_count": null,
      "outputs": [
        {
          "output_type": "stream",
          "name": "stdout",
          "text": [
            "{'banana', 'cherry', 'apple'}\n"
          ]
        }
      ]
    },
    {
      "cell_type": "code",
      "source": [
        "set1 = {\"a\", \"b\" , \"c\"}\n",
        "set2 = {1, 2, 3}\n",
        "\n",
        "set3 = set1.union(set2)\n",
        "print(set3)"
      ],
      "metadata": {
        "colab": {
          "base_uri": "https://localhost:8080/"
        },
        "id": "AzmUe1TPxaLh",
        "outputId": "f3e8a281-452d-44a9-eab9-8f4458ba5b92"
      },
      "execution_count": null,
      "outputs": [
        {
          "output_type": "stream",
          "name": "stdout",
          "text": [
            "{1, 2, 3, 'c', 'b', 'a'}\n"
          ]
        }
      ]
    },
    {
      "cell_type": "markdown",
      "source": [
        "DICTIONARIES:"
      ],
      "metadata": {
        "id": "FjBKUGVqxjFK"
      }
    },
    {
      "cell_type": "code",
      "source": [
        "thisdict = {\n",
        "  \"brand\": \"Ford\",\n",
        "  \"model\": \"Mustang\",\n",
        "  \"year\": 1964\n",
        "}\n",
        "print(thisdict)"
      ],
      "metadata": {
        "colab": {
          "base_uri": "https://localhost:8080/"
        },
        "id": "FSocoup5xlvC",
        "outputId": "aa832d3a-b301-4134-d44a-4d002ace0d56"
      },
      "execution_count": null,
      "outputs": [
        {
          "output_type": "stream",
          "name": "stdout",
          "text": [
            "{'brand': 'Ford', 'model': 'Mustang', 'year': 1964}\n"
          ]
        }
      ]
    },
    {
      "cell_type": "code",
      "source": [
        "thisdict = {\n",
        "  \"brand\": \"Ford\",\n",
        "  \"model\": \"Mustang\",\n",
        "  \"year\": 1964\n",
        "}\n",
        "print(\"Before update:\\n\",thisdict)\n",
        "thisdict.update({\"color\": \"red\"})\n",
        "print(\"After update:\\n\",thisdict)"
      ],
      "metadata": {
        "colab": {
          "base_uri": "https://localhost:8080/"
        },
        "id": "LMQheRr_x2iM",
        "outputId": "f6f3f26a-5a20-4ea6-9462-cfc8ef895796"
      },
      "execution_count": null,
      "outputs": [
        {
          "output_type": "stream",
          "name": "stdout",
          "text": [
            "Before update:\n",
            " {'brand': 'Ford', 'model': 'Mustang', 'year': 1964}\n",
            "After update:\n",
            " {'brand': 'Ford', 'model': 'Mustang', 'year': 1964, 'color': 'red'}\n"
          ]
        }
      ]
    }
  ]
}